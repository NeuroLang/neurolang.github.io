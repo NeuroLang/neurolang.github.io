{
  "cells": [
    {
      "cell_type": "code",
      "execution_count": null,
      "metadata": {
        "collapsed": false
      },
      "outputs": [],
      "source": [
        "%matplotlib inline"
      ]
    },
    {
      "cell_type": "markdown",
      "metadata": {},
      "source": [
        "\nNeuroLang Example Reverse Inference in NeuroSynth\n=================================================\n"
      ]
    },
    {
      "cell_type": "code",
      "execution_count": null,
      "metadata": {
        "collapsed": false
      },
      "outputs": [],
      "source": [
        "import logging\nfrom typing import Iterable\nimport sys\nimport warnings\n\nfrom neurolang import frontend as fe\nimport nibabel as nib\nfrom nilearn import datasets, image\nimport numpy as np\nimport pandas as pd\n\nlogger = logging.getLogger('neurolang.probabilistic')\nlogger.setLevel(logging.INFO)\nlogger.addHandler(logging.StreamHandler(sys.stderr))\nwarnings.filterwarnings(\"ignore\")"
      ]
    },
    {
      "cell_type": "markdown",
      "metadata": {},
      "source": [
        "Data preparation\n----------------\n\n"
      ]
    },
    {
      "cell_type": "markdown",
      "metadata": {},
      "source": [
        "Load the MNI template and resample it to 4mm voxels\n\n"
      ]
    },
    {
      "cell_type": "code",
      "execution_count": null,
      "metadata": {
        "collapsed": false
      },
      "outputs": [],
      "source": [
        "mni_t1 = nib.load(datasets.fetch_icbm152_2009()['t1'])\nmni_t1_4mm = image.resample_img(mni_t1, np.eye(3) * 4)"
      ]
    },
    {
      "cell_type": "markdown",
      "metadata": {},
      "source": [
        "Load Destrieux's atlas\n\n"
      ]
    },
    {
      "cell_type": "code",
      "execution_count": null,
      "metadata": {
        "collapsed": false
      },
      "outputs": [],
      "source": [
        "destrieux_dataset = datasets.fetch_atlas_destrieux_2009()\ndestrieux = nib.load(destrieux_dataset['maps'])\ndestrieux_resampled = image.resample_img(\n    destrieux, mni_t1_4mm.affine, interpolation='nearest'\n)\ndestrieux_resampled_data = np.asanyarray(\n    destrieux_resampled.dataobj, dtype=np.int32\n)\ndestrieux_voxels_ijk = destrieux_resampled_data.nonzero()\ndestrieux_voxels_value = destrieux_resampled_data[destrieux_voxels_ijk]\ndestrieux_table = pd.DataFrame(\n    np.transpose(destrieux_voxels_ijk), columns=['i', 'j', 'k']\n)\ndestrieux_table['label'] = destrieux_voxels_value\n\ndestrieux_label_names = []\nfor label_number, name in destrieux_dataset['labels']:\n    if label_number == 0:\n        continue\n    name = name.decode()\n    name = name.replace('-', '_').replace(' ', '_')\n    destrieux_label_names.append((name.lower(), label_number))"
      ]
    },
    {
      "cell_type": "markdown",
      "metadata": {},
      "source": [
        "Load the NeuroSynth database\n\n"
      ]
    },
    {
      "cell_type": "code",
      "execution_count": null,
      "metadata": {
        "collapsed": false
      },
      "outputs": [],
      "source": [
        "ns_database_fn, ns_features_fn = datasets.utils._fetch_files(\n    datasets.utils._get_dataset_dir('neurosynth'),\n    [\n        (\n            'database.txt',\n            'https://github.com/neurosynth/neurosynth-data/raw/master/current_data.tar.gz',\n            {'uncompress': True}\n        ),\n        (\n            'features.txt',\n            'https://github.com/neurosynth/neurosynth-data/raw/master/current_data.tar.gz',\n            {'uncompress': True}\n        ),\n    ]\n)\n\nns_database = pd.read_csv(ns_database_fn, sep=f'\\t')\nijk_positions = (\n    np.round(nib.affines.apply_affine(\n        np.linalg.inv(mni_t1_4mm.affine),\n        ns_database[['x', 'y', 'z']].values.astype(float)\n    )).astype(int)\n)\nns_database['i'] = ijk_positions[:, 0]\nns_database['j'] = ijk_positions[:, 1]\nns_database['k'] = ijk_positions[:, 2]\n\nns_features = pd.read_csv(ns_features_fn, sep=f'\\t')\nns_docs = ns_features[['pmid']].drop_duplicates()\nns_terms = (\n    pd.melt(\n            ns_features,\n            var_name='term', id_vars='pmid', value_name='TfIdf'\n       )\n    .query('TfIdf > 1e-3')[['pmid', 'term']]\n)"
      ]
    },
    {
      "cell_type": "markdown",
      "metadata": {},
      "source": [
        "Probabilistic Logic Programming in NeuroLang\n--------------------------------------------\n\n"
      ]
    },
    {
      "cell_type": "code",
      "execution_count": null,
      "metadata": {
        "collapsed": false
      },
      "outputs": [],
      "source": [
        "nl = fe.NeurolangPDL()"
      ]
    },
    {
      "cell_type": "markdown",
      "metadata": {},
      "source": [
        "Loading the database\n\n"
      ]
    },
    {
      "cell_type": "code",
      "execution_count": null,
      "metadata": {
        "collapsed": false
      },
      "outputs": [],
      "source": [
        "activations = nl.add_tuple_set(ns_database.values, name='activations')\nterms = nl.add_tuple_set(ns_terms.values, name='terms')\ndocs = nl.add_uniform_probabilistic_choice_over_set(\n        ns_docs.values, name='docs'\n)\ndestrieux_image = nl.add_tuple_set(\n    destrieux_table.values,\n    name='destrieux_image'\n)\ndestrieux_labels = nl.add_tuple_set(\n    destrieux_label_names, name='destrieux_labels'\n)\n\nfor set_symbol in (\n    'activations', 'terms', 'docs', 'destrieux_image', 'destrieux_labels'\n):\n    print(f\"#{set_symbol}: {len(nl.symbols[set_symbol].value)}\")"
      ]
    },
    {
      "cell_type": "markdown",
      "metadata": {},
      "source": [
        "Adding new aggregation function to build a region overlay\n\n"
      ]
    },
    {
      "cell_type": "code",
      "execution_count": null,
      "metadata": {
        "collapsed": false
      },
      "outputs": [],
      "source": [
        "@nl.add_symbol\ndef agg_sum(i: Iterable) -> float:\n    return np.sum(i)"
      ]
    },
    {
      "cell_type": "markdown",
      "metadata": {},
      "source": [
        "Probabilistic program and querying\n\n"
      ]
    },
    {
      "cell_type": "code",
      "execution_count": null,
      "metadata": {
        "collapsed": false
      },
      "outputs": [],
      "source": [
        "with nl.scope as e:\n    e.destrieux_voxel_names[e.i, e.j, e.k, e.region_name] = (\n        e.destrieux_labels(e.region_name, e.region_label) &\n        e.destrieux_image(e.i, e.j, e.k, e.region_label)\n    )\n\n    e.vox_term_prob[e.i, e.j, e.k, e.t, e.PROB[e.i, e.j, e.k, e.t]] = (\n        e.activations[\n            e.d, ..., ..., ..., ..., 'MNI', ..., ..., ..., ...,\n            ..., ..., ..., e.i, e.j, e.k\n        ] &\n        e.destrieux_voxel_names(e.i, e.j, e.k, 'l_g_front_inf_opercular') &\n        e.terms[e.d, e.t] &\n        e.docs[e.d]\n    )\n\n    e.vox_prob[e.i, e.j, e.k, e.PROB[e.i, e.j, e.k]] = (\n        e.activations[\n            e.d, ..., ..., ..., ..., 'MNI', ..., ..., ..., ...,\n            ..., ..., ..., e.i, e.j, e.k\n        ] &\n        e.destrieux_voxel_names(e.i, e.j, e.k, 'l_g_front_inf_opercular') &\n        e.terms[e.d, e.t] &\n        e.docs[e.d]\n    )\n\n    e.term_cond_act_prob[e.t, agg_sum(e.p)] = (\n        e.vox_term_prob[e.i, e.j, e.k, e.t, e.num_prob] &\n        e.vox_prob[e.i, e.j, e.k, e.denom_prob]\n        & (e.p == (e.num_prob / e.denom_prob))\n    )\n\n    res = nl.query((e.t, e.p), e.term_cond_act_prob(e.t, e.p))"
      ]
    },
    {
      "cell_type": "markdown",
      "metadata": {},
      "source": [
        "Results\n--------------------------------------------\n\n"
      ]
    },
    {
      "cell_type": "markdown",
      "metadata": {},
      "source": [
        "Probability of a term appearing on a study conditioned if a voxel in the left\nfrontal opercular gyrus is active in the study.\n\n"
      ]
    },
    {
      "cell_type": "code",
      "execution_count": null,
      "metadata": {
        "collapsed": false
      },
      "outputs": [],
      "source": [
        "print(\n    res\n    .as_pandas_dataframe()\n    .sort_values(res.columns[-1], ascending=False)\n    .head(50)\n)"
      ]
    }
  ],
  "metadata": {
    "kernelspec": {
      "display_name": "Python 3",
      "language": "python",
      "name": "python3"
    },
    "language_info": {
      "codemirror_mode": {
        "name": "ipython",
        "version": 3
      },
      "file_extension": ".py",
      "mimetype": "text/x-python",
      "name": "python",
      "nbconvert_exporter": "python",
      "pygments_lexer": "ipython3",
      "version": "3.8.5"
    }
  },
  "nbformat": 4,
  "nbformat_minor": 0
}