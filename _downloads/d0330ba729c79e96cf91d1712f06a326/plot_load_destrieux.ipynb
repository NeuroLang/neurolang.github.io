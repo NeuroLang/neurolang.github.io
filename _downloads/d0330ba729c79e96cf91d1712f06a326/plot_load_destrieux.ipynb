{
  "cells": [
    {
      "cell_type": "code",
      "execution_count": null,
      "metadata": {
        "collapsed": false
      },
      "outputs": [],
      "source": [
        "%matplotlib inline"
      ]
    },
    {
      "cell_type": "markdown",
      "metadata": {},
      "source": [
        "\nLoading and Querying the Destrieux et al. Atlas\n========================================================================\n\n\nUploading the Destrieux regions NeuroLang and\nexecuting a simple query.\n"
      ]
    },
    {
      "cell_type": "code",
      "execution_count": null,
      "metadata": {
        "collapsed": false
      },
      "outputs": [],
      "source": [
        "import nilearn\nimport numpy as np\nfrom matplotlib import pyplot as plt\nfrom nilearn import plotting\n\nimport nibabel as nib\nfrom neurolang.frontend import NeurolangPDL, ExplicitVBR\n\n\nnl = NeurolangPDL"
      ]
    },
    {
      "cell_type": "markdown",
      "metadata": {},
      "source": [
        "Load the Destrieux example from nilearn as a fact list\n------------------------------------------------------\n\n"
      ]
    },
    {
      "cell_type": "code",
      "execution_count": null,
      "metadata": {
        "collapsed": false
      },
      "outputs": [],
      "source": [
        "atlas_destrieux = nilearn.datasets.fetch_atlas_destrieux_2009()\n\nimage = nib.load(atlas_destrieux['maps'])\nimage_data = image.get_data()"
      ]
    },
    {
      "cell_type": "markdown",
      "metadata": {},
      "source": [
        "Load the regions into Voxel-style regions\n\n"
      ]
    },
    {
      "cell_type": "code",
      "execution_count": null,
      "metadata": {
        "collapsed": false
      },
      "outputs": [],
      "source": [
        "region_table = []\nfor label, name in atlas_destrieux['labels']:\n    if label == 0:\n        continue\n\n    voxels = np.transpose((image_data == label).nonzero())\n    if voxels.shape[0] == 0:\n        continue\n\n    r = ExplicitVBR(\n            voxels,\n            image.affine, image_dim=image.shape\n    )\n    region_table.append((str(name.decode('utf8')), r))"
      ]
    },
    {
      "cell_type": "markdown",
      "metadata": {},
      "source": [
        "Initialise the atlas to the Neurolang Engine\nadd two symbols to split left and right structures\nin the Destrieux atlas and add the atlas.\n\n"
      ]
    },
    {
      "cell_type": "code",
      "execution_count": null,
      "metadata": {
        "collapsed": false
      },
      "outputs": [],
      "source": [
        "nl = NeurolangPDL()\n\n\n@nl.add_symbol\ndef lh(x: str) -> bool:\n    return x.startswith('L ')\n\n\n@nl.add_symbol\ndef rh(x: str) -> bool:\n    return x.startswith('R ')\n\n\ndestrieux = nl.add_tuple_set(region_table, name='destrieux')\n\n\nwith nl.environment as e:\n    e.superior_sts_l[e.name, e.r] = (\n        e.destrieux('L S_temporal_sup', e.superior_sts_l) &\n        e.destrieux('L S_central', e.central_l) &\n        e.anatomical_superior_of(e.r, e.superior_sts_l) &\n        e.anatomical_anterior_of(e.r, e.central_l) &\n        e.lh(e.name) &\n        e.destrieux(e.name, e.r)\n    )\n\n    result = nl.query((e.name, e.r), e.superior_sts_l(e.name, e.r))\n\nfor name, region in result:\n    print(name)\n    plt.figure()\n    plotting.plot_roi(region.spatial_image(), title=name)"
      ]
    }
  ],
  "metadata": {
    "kernelspec": {
      "display_name": "Python 3",
      "language": "python",
      "name": "python3"
    },
    "language_info": {
      "codemirror_mode": {
        "name": "ipython",
        "version": 3
      },
      "file_extension": ".py",
      "mimetype": "text/x-python",
      "name": "python",
      "nbconvert_exporter": "python",
      "pygments_lexer": "ipython3",
      "version": "3.8.2"
    }
  },
  "nbformat": 4,
  "nbformat_minor": 0
}