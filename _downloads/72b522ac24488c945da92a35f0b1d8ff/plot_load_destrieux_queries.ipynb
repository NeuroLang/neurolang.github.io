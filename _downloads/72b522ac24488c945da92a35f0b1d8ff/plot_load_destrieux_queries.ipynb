{
  "cells": [
    {
      "cell_type": "code",
      "execution_count": null,
      "metadata": {
        "collapsed": false
      },
      "outputs": [],
      "source": [
        "%matplotlib inline"
      ]
    },
    {
      "cell_type": "markdown",
      "metadata": {},
      "source": [
        "\nLoading and Querying the Destrieux et al. Atlas\n========================================================================\n\n\nUploading the Destrieux regions NeuroLang and\nexecuting a simple query.\n"
      ]
    },
    {
      "cell_type": "code",
      "execution_count": null,
      "metadata": {
        "collapsed": false
      },
      "outputs": [],
      "source": [
        "from matplotlib import pyplot as plt\nimport nibabel as nib\nfrom nilearn import datasets, plotting\nfrom neurolang.frontend import NeurolangPDL"
      ]
    },
    {
      "cell_type": "markdown",
      "metadata": {},
      "source": [
        "Initialise the NeuroLang probabilistic engine.\n\n"
      ]
    },
    {
      "cell_type": "code",
      "execution_count": null,
      "metadata": {
        "collapsed": false
      },
      "outputs": [],
      "source": [
        "nl = NeurolangPDL()"
      ]
    },
    {
      "cell_type": "markdown",
      "metadata": {},
      "source": [
        "Load the Destrieux example from nilearn as a fact list\n\n"
      ]
    },
    {
      "cell_type": "code",
      "execution_count": null,
      "metadata": {
        "collapsed": false
      },
      "outputs": [],
      "source": [
        "atlas_destrieux = datasets.fetch_atlas_destrieux_2009()\natlas_labels = {\n    label: str(name.decode('utf8'))\n    for label, name in atlas_destrieux['labels']\n}\n\n\nnl.add_atlas_set('destrieux', atlas_labels, nib.load(atlas_destrieux['maps']))"
      ]
    },
    {
      "cell_type": "markdown",
      "metadata": {},
      "source": [
        "Add utility functions to separate hemispheric regions\n\n"
      ]
    },
    {
      "cell_type": "code",
      "execution_count": null,
      "metadata": {
        "collapsed": false
      },
      "outputs": [],
      "source": [
        "@nl.add_symbol\ndef left_hemisphere_name(x: str) -> bool:\n    return x.startswith('L ')\n\n\n@nl.add_symbol\ndef right_hemisphere_name(x: str) -> bool:\n    return x.startswith('R ')"
      ]
    },
    {
      "cell_type": "markdown",
      "metadata": {},
      "source": [
        "Query all left hemisphere regions superior to the temporal superior sulucs\nand anterior to the central sulcus\n\n"
      ]
    },
    {
      "cell_type": "code",
      "execution_count": null,
      "metadata": {
        "collapsed": false
      },
      "outputs": [],
      "source": [
        "with nl.environment as e:\n    # The set `superior_sts_l` is composed by every\n    # name `name` and region `r` where\n    e.superior_sts_l[e.name, e.r] = (\n        # the every region `name`, `r` is in Destrieux at al's atlas\n        e.destrieux(e.name, e.r) &\n        # the `name` corresponds to a left hemisphere name\n        e.left_hemisphere_name(e.name) &\n        # the region `r` is anatomically superior to the\n        # left superior temporal and anterior to the central sulci\n        e.anatomical_superior_of(e.r, e.superior_sts_l) &\n        e.anatomical_anterior_of(e.r, e.central_l) &\n        # where `superior_sts_l` and `central_l` are identified\n        # by their names in Destrieux et al's atlas.\n        e.destrieux('L S_temporal_sup', e.superior_sts_l) &\n        e.destrieux('L S_central', e.central_l)\n    )\n\n    result = nl.query((e.name, e.r), e.superior_sts_l(e.name, e.r))"
      ]
    },
    {
      "cell_type": "markdown",
      "metadata": {},
      "source": [
        "Visualise results\n\n"
      ]
    },
    {
      "cell_type": "code",
      "execution_count": null,
      "metadata": {
        "collapsed": false
      },
      "outputs": [],
      "source": [
        "subplots = plt.subplots(\n    nrows=len(result), ncols=1,\n    figsize=(10, 5 * len(result))\n)[1]\nfor (r, subplot) in zip(result, subplots):\n    name, region = r\n    subplot.set_title(name)\n    plotting.plot_roi(region.spatial_image(), title=name, axes=subplot)"
      ]
    }
  ],
  "metadata": {
    "kernelspec": {
      "display_name": "Python 3",
      "language": "python",
      "name": "python3"
    },
    "language_info": {
      "codemirror_mode": {
        "name": "ipython",
        "version": 3
      },
      "file_extension": ".py",
      "mimetype": "text/x-python",
      "name": "python",
      "nbconvert_exporter": "python",
      "pygments_lexer": "ipython3",
      "version": "3.8.5"
    }
  },
  "nbformat": 4,
  "nbformat_minor": 0
}