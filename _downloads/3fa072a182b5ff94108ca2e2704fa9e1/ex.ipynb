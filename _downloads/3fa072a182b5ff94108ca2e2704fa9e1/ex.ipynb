{
  "cells": [
    {
      "cell_type": "code",
      "execution_count": null,
      "metadata": {
        "collapsed": false
      },
      "outputs": [],
      "source": [
        "%matplotlib inline"
      ]
    },
    {
      "cell_type": "markdown",
      "metadata": {},
      "source": [
        "\nNeuroLang Datalog Example based on the Destrieux Atlas and Neurosynth\n=====================================================================\n\n\nUploading the Destrieux left sulci into NeuroLang and\nexecuting some simple queries.\n"
      ]
    },
    {
      "cell_type": "code",
      "execution_count": null,
      "metadata": {
        "collapsed": false
      },
      "outputs": [],
      "source": [
        "import logging\nfrom operator import contains as contains_\nfrom typing import Iterable\nimport sys\n\nimport nibabel as nib\nfrom nilearn import datasets\nfrom nilearn import plotting\nimport numpy as np\nimport pandas as pd\n\nfrom neurolang import frontend as fe\n\nlogger = logging.getLogger('neurolang.datalog.chase')\nlogger.setLevel(logging.INFO)\nlogger.addHandler(logging.StreamHandler(sys.stderr))"
      ]
    },
    {
      "cell_type": "markdown",
      "metadata": {},
      "source": [
        "Load the Destrieux example from nilearn\n---------------------------------------\n\n"
      ]
    },
    {
      "cell_type": "code",
      "execution_count": null,
      "metadata": {
        "collapsed": false
      },
      "outputs": [],
      "source": [
        "destrieux_dataset = datasets.fetch_atlas_destrieux_2009()\ndestrieux_map = nib.load(destrieux_dataset['maps'])"
      ]
    },
    {
      "cell_type": "markdown",
      "metadata": {},
      "source": [
        "Initialize the NeuroLang instance and load Destrieux's cortical parcellation\n-----------------------------------------------------------------------------\n\n"
      ]
    },
    {
      "cell_type": "code",
      "execution_count": null,
      "metadata": {
        "collapsed": false
      },
      "outputs": [],
      "source": [
        "nl = fe.NeurolangDL()\ndestrieux_tuples = []\nfor label_number, name in destrieux_dataset['labels']:\n    if label_number == 0:\n        continue\n    name = name.decode()\n    region = nl.create_region(destrieux_map, label=label_number)\n    if region is None:\n        continue\n    name = name.replace('-', '_').replace(' ', '_')\n    destrieux_tuples.append((name.lower(), region))\n\ndestrieux = nl.add_tuple_set(destrieux_tuples, name='destrieux')"
      ]
    },
    {
      "cell_type": "markdown",
      "metadata": {},
      "source": [
        "Add a function to measure a region's volume\n-----------------------------------------------------------------------------\n\n"
      ]
    },
    {
      "cell_type": "code",
      "execution_count": null,
      "metadata": {
        "collapsed": false
      },
      "outputs": [],
      "source": [
        "@nl.add_symbol\ndef region_volume(region: fe.ExplicitVBR) -> float:\n    volume = (\n        len(region.voxels) *\n        float(np.product(np.abs(np.linalg.eigvals(region.affine[:-1, :-1]))))\n    )\n    return volume\n\ncontains = nl.add_symbol(contains_, name='contains')"
      ]
    },
    {
      "cell_type": "markdown",
      "metadata": {},
      "source": [
        "Query all Destrieux regions having volume larger than 2500mm3\n----------------------------------------------------------------------\n\n"
      ]
    },
    {
      "cell_type": "code",
      "execution_count": null,
      "metadata": {
        "collapsed": false
      },
      "outputs": [],
      "source": [
        "with nl.scope as e:\n\n    e.anterior_to_precentral[e.name, e.region] = (\n        e.destrieux(e.name, e.region) &\n        e.destrieux('l_g_precentral', e.region_) &\n        contains(e.region, (..., e.j, ...)) &\n        contains(e.region_, (..., e.j_, ...)) &\n        (e.j_ > e.j)\n    )\n\n    res = nl.query(\n            (e.name, e.region),\n            e.anterior_to_precentral(e.name, e.region)\n            # & (region_volume(e.region) > 2500)\n    )"
      ]
    }
  ],
  "metadata": {
    "kernelspec": {
      "display_name": "Python 3",
      "language": "python",
      "name": "python3"
    },
    "language_info": {
      "codemirror_mode": {
        "name": "ipython",
        "version": 3
      },
      "file_extension": ".py",
      "mimetype": "text/x-python",
      "name": "python",
      "nbconvert_exporter": "python",
      "pygments_lexer": "ipython3",
      "version": "3.8.5"
    }
  },
  "nbformat": 4,
  "nbformat_minor": 0
}