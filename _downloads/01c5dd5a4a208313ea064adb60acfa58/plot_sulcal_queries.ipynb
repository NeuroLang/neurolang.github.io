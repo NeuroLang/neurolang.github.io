{
  "cells": [
    {
      "cell_type": "code",
      "execution_count": null,
      "metadata": {
        "collapsed": false
      },
      "outputs": [],
      "source": [
        "%matplotlib inline"
      ]
    },
    {
      "cell_type": "markdown",
      "metadata": {},
      "source": [
        "\nSulcal Identification Queries in Neurolang\n==============================================\n"
      ]
    },
    {
      "cell_type": "code",
      "execution_count": null,
      "metadata": {
        "collapsed": false
      },
      "outputs": [],
      "source": [
        "from matplotlib import pyplot as plt\nimport nibabel as nib\nfrom nilearn import datasets, plotting\nfrom neurolang.frontend import NeurolangDL"
      ]
    },
    {
      "cell_type": "markdown",
      "metadata": {},
      "source": [
        "Initialise the NeuroLang probabilistic engine.\n\n"
      ]
    },
    {
      "cell_type": "code",
      "execution_count": null,
      "metadata": {
        "collapsed": false
      },
      "outputs": [],
      "source": [
        "nl = NeurolangDL()"
      ]
    },
    {
      "cell_type": "markdown",
      "metadata": {},
      "source": [
        "Load the Destrieux example from nilearn as a fact list\n\n"
      ]
    },
    {
      "cell_type": "code",
      "execution_count": null,
      "metadata": {
        "collapsed": false
      },
      "outputs": [],
      "source": [
        "atlas_destrieux = datasets.fetch_atlas_destrieux_2009()\natlas_labels = {\n    label: str(name.decode('utf8'))\n    for label, name in atlas_destrieux['labels']\n}\n\n\nnl.add_atlas_set('destrieux_atlas', atlas_labels, nib.load(atlas_destrieux['maps']))"
      ]
    },
    {
      "cell_type": "markdown",
      "metadata": {},
      "source": [
        "Add utility function\n\n"
      ]
    },
    {
      "cell_type": "code",
      "execution_count": null,
      "metadata": {
        "collapsed": false
      },
      "outputs": [],
      "source": [
        "@nl.add_symbol\ndef startswith(prefix: str, s: str) -> bool:\n    return s.startswith(prefix)"
      ]
    },
    {
      "cell_type": "markdown",
      "metadata": {},
      "source": [
        "Define all left sulci and the primary ones\n\n"
      ]
    },
    {
      "cell_type": "code",
      "execution_count": null,
      "metadata": {
        "collapsed": false
      },
      "outputs": [],
      "source": [
        "with nl.environment as e:\n    e.left_sulcus[e.name, e.region] = (\n        e.destrieux_atlas(e.name, e.region) &\n        startswith('L S', e.name)\n    )\n\n    e.left_primary_sulcus[e.name, e.region] = (\n        e.destrieux_atlas(e.name, e.region) & (\n            (e.name == \"L S_central\") |\n            (e.name == \"L Lat_Fis-post\") |\n            (e.name == \"L S_pericallosal\") |\n            (e.name == \"L S_parieto_occipital\") |\n            (e.name == \"L S_calcarine\") |\n            (e.name == \"L Lat_Fis-ant-Vertical\")\n        )\n    )"
      ]
    }
  ],
  "metadata": {
    "kernelspec": {
      "display_name": "Python 3",
      "language": "python",
      "name": "python3"
    },
    "language_info": {
      "codemirror_mode": {
        "name": "ipython",
        "version": 3
      },
      "file_extension": ".py",
      "mimetype": "text/x-python",
      "name": "python",
      "nbconvert_exporter": "python",
      "pygments_lexer": "ipython3",
      "version": "3.8.5"
    }
  },
  "nbformat": 4,
  "nbformat_minor": 0
}