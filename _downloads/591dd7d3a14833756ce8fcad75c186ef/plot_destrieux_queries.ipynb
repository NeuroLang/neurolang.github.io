{
  "cells": [
    {
      "cell_type": "code",
      "execution_count": null,
      "metadata": {
        "collapsed": false
      },
      "outputs": [],
      "source": [
        "%matplotlib inline"
      ]
    },
    {
      "cell_type": "markdown",
      "metadata": {},
      "source": [
        "\nNeuroLang Query Example based on the Destrieux Atlas\n====================================================\n\n\nUploading the Destrieux left sulci into NeuroLang and\nexecuting some simple queries.\n"
      ]
    },
    {
      "cell_type": "code",
      "execution_count": null,
      "metadata": {
        "collapsed": false
      },
      "outputs": [],
      "source": [
        "from nilearn import datasets\nfrom nilearn import plotting\nimport nibabel as nib\n\nfrom neurolang import frontend as fe"
      ]
    },
    {
      "cell_type": "markdown",
      "metadata": {},
      "source": [
        "Load the Destrieux example from nilearn\n---------------------------------------\n\n"
      ]
    },
    {
      "cell_type": "code",
      "execution_count": null,
      "metadata": {
        "collapsed": false
      },
      "outputs": [],
      "source": [
        "destrieux_dataset = datasets.fetch_atlas_destrieux_2009()\ndestrieux_map = nib.load(destrieux_dataset['maps'])"
      ]
    },
    {
      "cell_type": "markdown",
      "metadata": {},
      "source": [
        "Input the left sulci into the NeuroLang interface\n-------------------------------------------------\n\n"
      ]
    },
    {
      "cell_type": "code",
      "execution_count": null,
      "metadata": {
        "collapsed": false
      },
      "outputs": [],
      "source": [
        "nl = fe.RegionFrontend()\nfor label_number, name in destrieux_dataset['labels']:\n    name = name.decode()\n    if (\n        not name.startswith('L ') or\n        not ('S_' in name or 'Lat_Fis' in name or 'Pole' in name)\n    ):\n        continue\n\n    # Create a region object\n    region = nl.create_region(destrieux_map, label=label_number)\n\n    # Fine tune the symbol name\n    name = 'L_' + name[2:].replace('-', '_')\n    nl.add_region(region, name=name.lower())"
      ]
    },
    {
      "cell_type": "markdown",
      "metadata": {},
      "source": [
        "Plot one of the symbols\n\n"
      ]
    },
    {
      "cell_type": "code",
      "execution_count": null,
      "metadata": {
        "collapsed": false
      },
      "outputs": [],
      "source": [
        "plotting.plot_roi(nl.symbols.l_s_central.value.spatial_image())"
      ]
    },
    {
      "cell_type": "markdown",
      "metadata": {},
      "source": [
        "Create and run a simple query\n-----------------------------\n\n"
      ]
    },
    {
      "cell_type": "code",
      "execution_count": null,
      "metadata": {
        "collapsed": false
      },
      "outputs": [],
      "source": [
        "x = nl.new_region_symbol('x')\nq = nl.query(x, nl.symbols.anatomical_anterior_of(x, nl.symbols.l_s_central))\nprint(q)"
      ]
    },
    {
      "cell_type": "code",
      "execution_count": null,
      "metadata": {
        "collapsed": false
      },
      "outputs": [],
      "source": [
        "res = q.do()\nfor r in res:\n    plotting.plot_roi(r.value.spatial_image(), title=r.symbol_name)"
      ]
    },
    {
      "cell_type": "markdown",
      "metadata": {},
      "source": [
        "Create and run query which is a bit more complex\n------------------------------------------------\n\n"
      ]
    },
    {
      "cell_type": "code",
      "execution_count": null,
      "metadata": {
        "collapsed": false
      },
      "outputs": [],
      "source": [
        "x = nl.new_region_symbol('x')\nq = nl.query(\n    x,\n    nl.symbols.anatomical_anterior_of(x, nl.symbols.l_s_central) &\n    nl.symbols.anatomical_superior_of(x, nl.symbols.l_s_temporal_sup)\n)\nprint(q)"
      ]
    },
    {
      "cell_type": "code",
      "execution_count": null,
      "metadata": {
        "collapsed": false
      },
      "outputs": [],
      "source": [
        "res = q.do()\nfor r in res:\n    plotting.plot_roi(r.value.spatial_image(), title=r.symbol_name)"
      ]
    },
    {
      "cell_type": "markdown",
      "metadata": {},
      "source": [
        "Create and run query with existential quantifiers and negation\n--------------------------------------------------------------\n\n"
      ]
    },
    {
      "cell_type": "code",
      "execution_count": null,
      "metadata": {
        "collapsed": false
      },
      "outputs": [],
      "source": [
        "x = nl.new_region_symbol('x')\ny = nl.new_region_symbol('y')\nq = nl.query(\n    x,\n    nl.symbols.anatomical_anterior_of(x, nl.symbols.l_s_central) &\n    ~nl.exists(\n        y,\n        nl.symbols.anatomical_anterior_of(y, nl.symbols.l_s_central) &\n        nl.symbols.anatomical_anterior_of(x, y)\n    )\n)\nprint(q)"
      ]
    },
    {
      "cell_type": "code",
      "execution_count": null,
      "metadata": {
        "collapsed": false
      },
      "outputs": [],
      "source": [
        "res = q.do()\nfor r in res:\n    plotting.plot_roi(r.value.spatial_image(), title=r.symbol_name)"
      ]
    },
    {
      "cell_type": "markdown",
      "metadata": {},
      "source": [
        "Use the set of results from a query in a different one\n------------------------------------------------------\n\n"
      ]
    },
    {
      "cell_type": "code",
      "execution_count": null,
      "metadata": {
        "collapsed": false
      },
      "outputs": [],
      "source": [
        "x = nl.new_region_symbol('x')\ntemporal_lobe_query = nl.query(\n    x,\n    nl.symbols.anatomical_inferior_of(x, nl.symbols.l_s_parieto_occipital) &\n    nl.symbols.anatomical_anterior_of(x, nl.symbols.l_s_calcarine) &\n    nl.symbols.anatomical_posterior_of(x, nl.symbols.l_lat_fis_ant_vertical)\n)\ntemporal_lobe = q.do(name='temporal_lobe')\nprint(temporal_lobe)"
      ]
    },
    {
      "cell_type": "code",
      "execution_count": null,
      "metadata": {
        "collapsed": false
      },
      "outputs": [],
      "source": [
        "q = nl.query(\n    x,\n    nl.symbols.isin(x, temporal_lobe) &\n    ~nl.symbols.anatomical_inferior_of(x, nl.symbols.l_s_temporal_inf)\n)\n\nprint(q)"
      ]
    },
    {
      "cell_type": "code",
      "execution_count": null,
      "metadata": {
        "collapsed": false
      },
      "outputs": [],
      "source": [
        "res = q.do()\nfor r in res:\n    plotting.plot_roi(r.value.spatial_image(), title=r.symbol_name)"
      ]
    }
  ],
  "metadata": {
    "kernelspec": {
      "display_name": "Python 3",
      "language": "python",
      "name": "python3"
    },
    "language_info": {
      "codemirror_mode": {
        "name": "ipython",
        "version": 3
      },
      "file_extension": ".py",
      "mimetype": "text/x-python",
      "name": "python",
      "nbconvert_exporter": "python",
      "pygments_lexer": "ipython3",
      "version": "3.8.2"
    }
  },
  "nbformat": 4,
  "nbformat_minor": 0
}