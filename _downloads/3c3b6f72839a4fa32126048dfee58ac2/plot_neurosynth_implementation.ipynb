{
  "cells": [
    {
      "cell_type": "code",
      "execution_count": null,
      "metadata": {
        "collapsed": false
      },
      "outputs": [],
      "source": [
        "%matplotlib inline"
      ]
    },
    {
      "cell_type": "markdown",
      "metadata": {},
      "source": [
        "\n# NeuroLang Example based Implementing a NeuroSynth Query\n"
      ]
    },
    {
      "cell_type": "code",
      "execution_count": null,
      "metadata": {
        "collapsed": false
      },
      "outputs": [],
      "source": [
        "from typing import Iterable\n\nimport nibabel as nib\nimport numpy as np\nimport pandas as pd\nfrom nilearn import datasets, image, plotting\n\nfrom neurolang import ExplicitVBROverlay, NeurolangPDL"
      ]
    },
    {
      "cell_type": "markdown",
      "metadata": {},
      "source": [
        "## Data preparation\n\n"
      ]
    },
    {
      "cell_type": "markdown",
      "metadata": {},
      "source": [
        "Load the MNI atlas and resample it to 4mm voxels\n\n"
      ]
    },
    {
      "cell_type": "code",
      "execution_count": null,
      "metadata": {
        "collapsed": false
      },
      "outputs": [],
      "source": [
        "mni_t1 = nib.load(datasets.fetch_icbm152_2009()[\"t1\"])\nmni_t1_4mm = image.resample_img(mni_t1, np.eye(3) * 4)"
      ]
    },
    {
      "cell_type": "markdown",
      "metadata": {},
      "source": [
        "Load the NeuroSynth database\n\n"
      ]
    },
    {
      "cell_type": "code",
      "execution_count": null,
      "metadata": {
        "collapsed": false
      },
      "outputs": [],
      "source": [
        "ns_database_fn, ns_features_fn = datasets.utils._fetch_files(\n    \"neurolang\",\n    [\n        (\n            \"database.txt\",\n            \"https://github.com/neurosynth/neurosynth-data/raw/master/current_data.tar.gz\",\n            {\"uncompress\": True},\n        ),\n        (\n            \"features.txt\",\n            \"https://github.com/neurosynth/neurosynth-data/raw/master/current_data.tar.gz\",\n            {\"uncompress\": True},\n        ),\n    ],\n)\n\nns_database = pd.read_csv(ns_database_fn, sep=\"\\t\")\nijk_positions = np.round(\n    nib.affines.apply_affine(\n        np.linalg.inv(mni_t1_4mm.affine),\n        ns_database[[\"x\", \"y\", \"z\"]].values.astype(float),\n    )\n).astype(int)\nns_database[\"i\"] = ijk_positions[:, 0]\nns_database[\"j\"] = ijk_positions[:, 1]\nns_database[\"k\"] = ijk_positions[:, 2]\n\nns_features = pd.read_csv(ns_features_fn, sep=\"\\t\")\nns_docs = ns_features[[\"pmid\"]].drop_duplicates()\nns_terms = pd.melt(\n    ns_features, var_name=\"term\", id_vars=\"pmid\", value_name=\"TfIdf\"\n).query(\"TfIdf > 1e-3\")[[\"pmid\", \"term\"]]\nns_terms.to_csv(\"term_documents.csv\")\n(\n    ns_database[[\"x\", \"y\", \"z\", \"i\", \"j\", \"k\", \"id\"]]\n    .rename(columns={\"id\": \"pmid\"})\n    .to_csv(\"document_activations.csv\")\n)"
      ]
    },
    {
      "cell_type": "markdown",
      "metadata": {},
      "source": [
        "## Probabilistic Logic Programming in NeuroLang\n\n"
      ]
    },
    {
      "cell_type": "code",
      "execution_count": null,
      "metadata": {
        "collapsed": false
      },
      "outputs": [],
      "source": [
        "nl = NeurolangPDL()"
      ]
    },
    {
      "cell_type": "markdown",
      "metadata": {},
      "source": [
        "Adding new aggregation function to build a region overlay\n\n"
      ]
    },
    {
      "cell_type": "code",
      "execution_count": null,
      "metadata": {
        "collapsed": false
      },
      "outputs": [],
      "source": [
        "@nl.add_symbol\ndef agg_create_region_overlay(\n    i: Iterable, j: Iterable, k: Iterable, p: Iterable\n) -> ExplicitVBROverlay:\n    voxels = np.c_[i, j, k]\n    return ExplicitVBROverlay(\n        voxels, mni_t1_4mm.affine, p, image_dim=mni_t1_4mm.shape\n    )"
      ]
    },
    {
      "cell_type": "markdown",
      "metadata": {},
      "source": [
        "Loading the database\n\n"
      ]
    },
    {
      "cell_type": "code",
      "execution_count": null,
      "metadata": {
        "collapsed": false
      },
      "outputs": [],
      "source": [
        "activations = nl.add_tuple_set(ns_database.values, name=\"activations\")\nterms = nl.add_tuple_set(ns_terms.values, name=\"terms\")\ndocs = nl.add_uniform_probabilistic_choice_over_set(\n    ns_docs.values, name=\"docs\"\n)"
      ]
    },
    {
      "cell_type": "markdown",
      "metadata": {},
      "source": [
        "Probabilistic program and querying\n\n"
      ]
    },
    {
      "cell_type": "code",
      "execution_count": null,
      "metadata": {
        "collapsed": false
      },
      "outputs": [],
      "source": [
        "with nl.scope as e:\n    e.vox_activation[e.i, e.j, e.k, e.d] = e.activations[\n        e.d,\n        ...,\n        ...,\n        ...,\n        ...,\n        \"MNI\",\n        ...,\n        ...,\n        ...,\n        ...,\n        ...,\n        ...,\n        ...,\n        e.i,\n        e.j,\n        e.k,\n    ]\n    e.probmap[e.i, e.j, e.k, e.PROB[e.i, e.j, e.k]] = (\n        e.vox_activation[e.i, e.j, e.k, e.d]\n    ) // e.terms[e.d, \"auditory\"]\n    e.img[e.agg_create_region_overlay[e.i, e.j, e.k, e.p]] = e.probmap[\n        e.i, e.j, e.k, e.p\n    ]\n    img_query = nl.query((e.x,), e.img(e.x))"
      ]
    },
    {
      "cell_type": "markdown",
      "metadata": {},
      "source": [
        "## Plotting results\n\n"
      ]
    },
    {
      "cell_type": "code",
      "execution_count": null,
      "metadata": {
        "collapsed": false
      },
      "outputs": [],
      "source": [
        "result_image = img_query.fetch_one()[0].spatial_image()\nimg = result_image.get_fdata()\nplot = plotting.plot_stat_map(\n    result_image, threshold=np.percentile(img[img > 0], 95)\n)\nplotting.show()"
      ]
    }
  ],
  "metadata": {
    "kernelspec": {
      "display_name": "Python 3",
      "language": "python",
      "name": "python3"
    },
    "language_info": {
      "codemirror_mode": {
        "name": "ipython",
        "version": 3
      },
      "file_extension": ".py",
      "mimetype": "text/x-python",
      "name": "python",
      "nbconvert_exporter": "python",
      "pygments_lexer": "ipython3",
      "version": "3.7.9"
    }
  },
  "nbformat": 4,
  "nbformat_minor": 0
}