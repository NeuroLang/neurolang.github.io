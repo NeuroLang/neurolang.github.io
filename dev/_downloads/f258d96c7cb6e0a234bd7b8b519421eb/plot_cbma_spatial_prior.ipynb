{
  "cells": [
    {
      "cell_type": "code",
      "execution_count": null,
      "metadata": {
        "collapsed": false
      },
      "outputs": [],
      "source": [
        "%matplotlib inline"
      ]
    },
    {
      "cell_type": "markdown",
      "metadata": {},
      "source": [
        "\n# Example where a spatial prior is defined based on the distance between voxels and foci in a coordinate-based meta-analysis database\n\nEach voxel's probability of being reported by a study is calculated based on\nwhether that particular study reports a focus (peak activation) near the voxel.\nThe probability is defined based on how far from the focus that voxel happens\nto be.\n"
      ]
    },
    {
      "cell_type": "code",
      "execution_count": null,
      "metadata": {
        "collapsed": false
      },
      "outputs": [],
      "source": [
        "from typing import Callable, Iterable\n\nimport nibabel\nimport nilearn.datasets\nimport nilearn.image\nimport nilearn.plotting\nimport numpy as np\nimport pandas as pd\n\nfrom neurolang.frontend import ExplicitVBR, ExplicitVBROverlay, NeurolangPDL\n\n# ##############################################################################\n# Data preparation\n# ----------------\n\n# ##############################################################################\n# Load the MNI atlas and resample it to 4mm voxels\n\nmni_t1 = nibabel.load(nilearn.datasets.fetch_icbm152_2009()[\"t1\"])\nmni_t1_4mm = nilearn.image.resample_img(mni_t1, np.eye(3) * 2)\n\n# ##############################################################################\n# Probabilistic Logic Programming in NeuroLang\n# --------------------------------------------\n\nnl = NeurolangPDL()\n\n\n# ##############################################################################\n# Adding new aggregation function to build a region overlay\n# ----------------------------------\n\n\n@nl.add_symbol\ndef agg_create_region_overlay(\n    i: Iterable, j: Iterable, k: Iterable, p: Iterable\n) -> ExplicitVBR:\n    voxels = np.c_[i, j, k]\n    return ExplicitVBROverlay(\n        voxels, mni_t1_4mm.affine, p, image_dim=mni_t1_4mm.shape\n    )\n\n\n# ##############################################################################\n# Loading the database\n# ----------------------------------\n\nns_database_fn, ns_features_fn = nilearn.datasets.utils._fetch_files(\n    \"neurolang\",\n    [\n        (\n            \"database.txt\",\n            \"https://github.com/neurosynth/neurosynth-data\"\n            \"/raw/master/current_data.tar.gz\",\n            {\"uncompress\": True},\n        ),\n        (\n            \"features.txt\",\n            \"https://github.com/neurosynth/neurosynth-data\"\n            \"/raw/master/current_data.tar.gz\",\n            {\"uncompress\": True},\n        ),\n    ],\n)\n\nns_database = pd.read_csv(ns_database_fn, sep=\"\\t\")\nijk_positions = np.round(\n    nibabel.affines.apply_affine(\n        np.linalg.inv(mni_t1_4mm.affine),\n        ns_database[[\"x\", \"y\", \"z\"]].values.astype(float),\n    )\n).astype(int)\nns_database[\"i\"] = ijk_positions[:, 0]\nns_database[\"j\"] = ijk_positions[:, 1]\nns_database[\"k\"] = ijk_positions[:, 2]\nns_database = ns_database[[\"i\", \"j\", \"k\", \"id\"]]\n\nns_features = pd.read_csv(ns_features_fn, sep=\"\\t\")\nns_docs = ns_features[[\"pmid\"]].drop_duplicates()\nns_terms = pd.melt(\n    ns_features, var_name=\"term\", id_vars=\"pmid\", value_name=\"TfIdf\"\n).query(\"TfIdf > 1e-3\")[[\"term\", \"pmid\"]]\n\nTermInStudy = nl.add_tuple_set(ns_terms, name=\"TermInStudy\")\nFocusReported = nl.add_tuple_set(ns_database, name=\"FocusReported\")\nSelectedStudy = nl.add_uniform_probabilistic_choice_over_set(\n    ns_docs, name=\"SelectedStudy\"\n)\nVoxel = nl.add_tuple_set(\n    np.hstack(\n        np.meshgrid(\n            *(np.arange(0, dim) for dim in mni_t1_4mm.get_fdata().shape)\n        )\n    )\n    .swapaxes(0, 1)\n    .reshape(3, -1)\n    .T,\n    name=\"Voxel\",\n)\n\n# ##############################################################################\n# Probabilistic program and querying\n# ----------------------------------\n\nnl.add_symbol(np.exp, name=\"exp\", type_=Callable[[float], float])\n\nwith nl.environment as e:\n    (e.VoxelReported @ e.max(e.exp(-e.d / 5.0)))[e.i1, e.j1, e.k1, e.s] = (\n        e.FocusReported(e.i2, e.j2, e.k2, e.s)\n        & e.Voxel(e.i1, e.j1, e.k1)\n        & (e.d == e.EUCLIDEAN(e.i1, e.j1, e.k1, e.i2, e.j2, e.k2))\n        & (e.d < 1)\n    )\n    e.TermAssociation[e.t] = e.SelectedStudy[e.s] & e.TermInStudy[e.t, e.s]\n    e.Activation[e.i, e.j, e.k] = (\n        e.SelectedStudy[e.s] & e.VoxelReported[e.i, e.j, e.k, e.s]\n    )\n    e.probmap[e.i, e.j, e.k, e.PROB[e.i, e.j, e.k]] = (\n        e.Activation[e.i, e.j, e.k]\n    ) // e.TermAssociation[\"emotion\"]\n    e.img[e.agg_create_region_overlay[e.i, e.j, e.k, e.p]] = e.probmap[\n        e.i, e.j, e.k, e.p\n    ]\n    img_query = nl.query((e.x,), e.img[e.x])\n\n# ##############################################################################\n# Plotting results\n# --------------------------------------------\n\nresult_image = img_query.fetch_one()[0].spatial_image()\nimg = result_image.get_fdata()\nplot = nilearn.plotting.plot_stat_map(\n    result_image, threshold=np.percentile(img[img > 0], 95)\n)\nnilearn.plotting.show()"
      ]
    }
  ],
  "metadata": {
    "kernelspec": {
      "display_name": "Python 3",
      "language": "python",
      "name": "python3"
    },
    "language_info": {
      "codemirror_mode": {
        "name": "ipython",
        "version": 3
      },
      "file_extension": ".py",
      "mimetype": "text/x-python",
      "name": "python",
      "nbconvert_exporter": "python",
      "pygments_lexer": "ipython3",
      "version": "3.7.11"
    }
  },
  "nbformat": 4,
  "nbformat_minor": 0
}