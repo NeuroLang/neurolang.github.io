{
  "cells": [
    {
      "cell_type": "markdown",
      "metadata": {},
      "source": [
        "\n# NeuroLang Example based Implementing a NeuroSynth Query\n"
      ]
    },
    {
      "cell_type": "code",
      "execution_count": null,
      "metadata": {
        "collapsed": false
      },
      "outputs": [],
      "source": [
        "import warnings\n\nwarnings.filterwarnings(\"ignore\")\n\nfrom pathlib import Path\nfrom typing import Iterable\n\nimport nibabel\nimport nilearn.datasets\nimport nilearn.image\nimport nilearn.plotting\nimport numpy as np\nimport pandas as pd\nfrom neurolang import ExplicitVBROverlay, NeurolangPDL\nfrom neurolang.frontend.neurosynth_utils import get_ns_mni_peaks_reported"
      ]
    },
    {
      "cell_type": "markdown",
      "metadata": {},
      "source": [
        "## Data preparation\n\n"
      ]
    },
    {
      "cell_type": "code",
      "execution_count": null,
      "metadata": {
        "collapsed": false
      },
      "outputs": [],
      "source": [
        "data_dir = Path.home() / \"neurolang_data\""
      ]
    },
    {
      "cell_type": "markdown",
      "metadata": {},
      "source": [
        "Load the MNI atlas and resample it to 4mm voxels\n\n"
      ]
    },
    {
      "cell_type": "code",
      "execution_count": null,
      "metadata": {
        "collapsed": false
      },
      "outputs": [],
      "source": [
        "mni_t1 = nibabel.load(\n    nilearn.datasets.fetch_icbm152_2009(data_dir=str(data_dir / \"icbm\"))[\"t1\"]\n)\nmni_t1_4mm = nilearn.image.resample_img(mni_t1, np.eye(3) * 4)"
      ]
    },
    {
      "cell_type": "markdown",
      "metadata": {},
      "source": [
        "## Probabilistic Logic Programming in NeuroLang\n\n"
      ]
    },
    {
      "cell_type": "code",
      "execution_count": null,
      "metadata": {
        "collapsed": false
      },
      "outputs": [],
      "source": [
        "nl = NeurolangPDL()"
      ]
    },
    {
      "cell_type": "markdown",
      "metadata": {},
      "source": [
        "Adding new aggregation function to build a region overlay\n\n"
      ]
    },
    {
      "cell_type": "code",
      "execution_count": null,
      "metadata": {
        "collapsed": false
      },
      "outputs": [],
      "source": [
        "@nl.add_symbol\ndef agg_create_region_overlay(\n    i: Iterable, j: Iterable, k: Iterable, p: Iterable\n) -> ExplicitVBROverlay:\n    mni_coords = np.c_[i, j, k]\n    return ExplicitVBROverlay(\n        mni_coords, mni_t1_4mm.affine, p, image_dim=mni_t1_4mm.shape\n    )"
      ]
    },
    {
      "cell_type": "markdown",
      "metadata": {},
      "source": [
        "Load the NeuroSynth database\n\n"
      ]
    },
    {
      "cell_type": "code",
      "execution_count": null,
      "metadata": {
        "collapsed": false
      },
      "outputs": [],
      "source": [
        "peak_data = get_ns_mni_peaks_reported(data_dir)\nijk_positions = np.round(\n    nibabel.affines.apply_affine(\n        np.linalg.inv(mni_t1_4mm.affine),\n        peak_data[[\"x\", \"y\", \"z\"]].values.astype(float),\n    )\n).astype(int)\npeak_data[\"i\"] = ijk_positions[:, 0]\npeak_data[\"j\"] = ijk_positions[:, 1]\npeak_data[\"k\"] = ijk_positions[:, 2]\npeak_data = peak_data[[\"i\", \"j\", \"k\", \"id\"]]\n\nnl.add_tuple_set(peak_data, name=\"PeakReported\")\nstudy_ids = nl.load_neurosynth_study_ids(data_dir, \"Study\")\nnl.add_uniform_probabilistic_choice_over_set(\n    study_ids.value, name=\"SelectedStudy\"\n)\nnl.load_neurosynth_term_study_associations(\n    data_dir, \"TermInStudyTFIDF\", tfidf_threshold=1e-3\n)"
      ]
    },
    {
      "cell_type": "markdown",
      "metadata": {},
      "source": [
        "##############################################################################\n Probabilistic program and querying\n\n"
      ]
    },
    {
      "cell_type": "code",
      "execution_count": null,
      "metadata": {
        "collapsed": false
      },
      "outputs": [],
      "source": [
        "with nl.scope as e:\n    e.Activation[e.i, e.j, e.k] = e.PeakReported(\n        e.i, e.j, e.k, e.s\n    ) & e.SelectedStudy(e.s)\n    e.TermAssociation[e.t] = e.SelectedStudy(e.s) & e.TermInStudyTFIDF(\n        e.s, e.t, ...\n    )\n    e.ActivationGivenTerm[e.i, e.j, e.k, e.PROB[e.i, e.j, e.k]] = e.Activation(\n        e.i, e.j, e.k\n    ) // e.TermAssociation(\"auditory\")\n    e.ActivationGivenTermImage[\n        agg_create_region_overlay(e.i, e.j, e.k, e.p)\n    ] = e.ActivationGivenTerm(e.i, e.j, e.k, e.p)\n\n    img_query = nl.query((e.x,), e.ActivationGivenTermImage(e.x))"
      ]
    },
    {
      "cell_type": "markdown",
      "metadata": {},
      "source": [
        "##############################################################################\n Plotting results\n --------------------------------------------\n\n"
      ]
    },
    {
      "cell_type": "code",
      "execution_count": null,
      "metadata": {
        "collapsed": false
      },
      "outputs": [],
      "source": [
        "result_image = img_query.fetch_one()[0].spatial_image()\nimg = result_image.get_fdata()\nplot = nilearn.plotting.plot_stat_map(\n    result_image, threshold=np.percentile(img[img > 0], 95)\n)\nnilearn.plotting.show()"
      ]
    }
  ],
  "metadata": {
    "kernelspec": {
      "display_name": "Python 3",
      "language": "python",
      "name": "python3"
    },
    "language_info": {
      "codemirror_mode": {
        "name": "ipython",
        "version": 3
      },
      "file_extension": ".py",
      "mimetype": "text/x-python",
      "name": "python",
      "nbconvert_exporter": "python",
      "pygments_lexer": "ipython3",
      "version": "3.8.12"
    }
  },
  "nbformat": 4,
  "nbformat_minor": 0
}