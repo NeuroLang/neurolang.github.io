{
  "cells": [
    {
      "cell_type": "code",
      "execution_count": null,
      "metadata": {
        "collapsed": false
      },
      "outputs": [],
      "source": [
        "%matplotlib inline"
      ]
    },
    {
      "cell_type": "markdown",
      "metadata": {},
      "source": [
        "\n# Sulcal Identification Query Example in Neurolang\n"
      ]
    },
    {
      "cell_type": "markdown",
      "metadata": {},
      "source": [
        "## Initialise the Neurolang deterministic environment\n\n"
      ]
    },
    {
      "cell_type": "code",
      "execution_count": null,
      "metadata": {
        "collapsed": false
      },
      "outputs": [],
      "source": [
        "import nibabel as nib\nimport numpy as np\nfrom matplotlib import pyplot as plt\nfrom nilearn import datasets, plotting\n\nfrom neurolang import ExplicitVBR, NeurolangDL"
      ]
    },
    {
      "cell_type": "markdown",
      "metadata": {},
      "source": [
        "Initialise the NeuroLang probabilistic engine.\n\n"
      ]
    },
    {
      "cell_type": "code",
      "execution_count": null,
      "metadata": {
        "collapsed": false
      },
      "outputs": [],
      "source": [
        "nl = NeurolangDL()"
      ]
    },
    {
      "cell_type": "markdown",
      "metadata": {},
      "source": [
        "Load the Destrieux example from nilearn as a fact list\n\n"
      ]
    },
    {
      "cell_type": "code",
      "execution_count": null,
      "metadata": {
        "collapsed": false
      },
      "outputs": [],
      "source": [
        "atlas_destrieux = datasets.fetch_atlas_destrieux_2009()\natlas_labels = {\n    label: str(name.decode(\"utf8\"))\n    for label, name in atlas_destrieux[\"labels\"]\n}\n\n\nnl.add_atlas_set(\"destrieux\", atlas_labels, nib.load(atlas_destrieux[\"maps\"]))"
      ]
    },
    {
      "cell_type": "markdown",
      "metadata": {},
      "source": [
        "Add utility functions, one for the prefix of the region's name\none to determine the principal direction of the region.\n\n"
      ]
    },
    {
      "cell_type": "code",
      "execution_count": null,
      "metadata": {
        "collapsed": false
      },
      "outputs": [],
      "source": [
        "@nl.add_symbol\ndef startswith(prefix: str, s: str) -> bool:\n    \"\"\"Describe the prefix of string `s`.\n\n    Parameters\n    ----------\n    prefix : str\n        prefix to query.\n    s : str\n        string to check whether its\n        prefixed by `s`.\n\n    Returns\n    -------\n    bool\n        whether `s` is prefixed by\n        `prefix`.\n    \"\"\"\n    return s.startswith(prefix)\n\n\n@nl.add_symbol\ndef principal_direction(s: ExplicitVBR, direction: str, eps=1e-6) -> bool:\n    \"\"\"Describe the principal direction of\n    the extension of a volumetric region.\n\n    Parameters\n    ----------\n    s : ExplicitVBR\n        region to analyse the principal\n        direction of its extension.\n    direction : str\n        principal directions, one of\n        `LR`, `AP`, `SI`, for the directions\n        left-right, anterio-posterior, and\n        superior inferior respectively.\n    eps : float, optional\n        minimum difference on between\n        directional standard deviations,\n        by default 1e-6.\n\n    Returns\n    -------\n    bool\n        wether the principal variance of\n        `s` is `direction`.\n    \"\"\"\n    # Assuming RAS coding os the xyz space.\n    c = [\"LR\", \"AP\", \"SI\"]\n\n    s_xyz = s.to_xyz()\n    cov = np.cov(s_xyz.T)\n    evals, evecs = np.linalg.eig(cov)\n    i = np.argmax(np.abs(evals))\n    abs_max_evec = np.abs(evecs[:, i].squeeze())\n    sort_dir = np.argsort(abs_max_evec)\n    if np.abs(abs_max_evec[sort_dir[-1]] - abs_max_evec[sort_dir[-2]]) < eps:\n        return False\n    else:\n        main_dir = c[sort_dir[-1]]\n    return (direction == main_dir) or (direction[::-1] == main_dir)"
      ]
    },
    {
      "cell_type": "markdown",
      "metadata": {},
      "source": [
        "## Example 1: Characterise Some of the Sulci\nIn this example we characterise:\n\n* left hemisphere primary sulci, by name\n\n* left frontal lobe sulcus as those\n\n  * anterior to Destrieux's left central sulcus\n  * superior to Destrieux's left anterio-vertical section\n    of the lateral fissure.\n\nThese will be present in all further programs.\nThere are no executed queries in this section, just\ndeclared ones.\n\n"
      ]
    },
    {
      "cell_type": "code",
      "execution_count": null,
      "metadata": {
        "collapsed": false
      },
      "outputs": [],
      "source": [
        "with nl.environment as e:\n    e.left_sulcus[e.name, e.region] = e.destrieux(\n        e.name, e.region\n    ) & startswith(\"L S\", e.name)\n\n    e.left_primary_sulcus[e.name, e.region] = e.destrieux(e.name, e.region) & (\n        (e.name == \"L S_central\")\n        | (e.name == \"L Lat_Fis-post\")\n        | (e.name == \"L S_pericallosal\")\n        | (e.name == \"L S_parieto_occipital\")\n        | (e.name == \"L S_calcarine\")\n        | (e.name == \"L Lat_Fis-ant-Vertical\")\n        | (e.name == \"L Lat_Fis-ant-Horizont\")\n    )\n    e.left_frontal_lobe_sulcus[e.region] = (\n        e.left_sulcus(..., e.region)\n        & e.anatomical_anterior_of(e.region, e.destrieux.s[\"L S_central\"])\n        & e.anatomical_superior_of(\n            e.region, e.destrieux.s[\"L Lat_Fis-ant-Vertical\"]\n        )\n    )"
      ]
    },
    {
      "cell_type": "markdown",
      "metadata": {},
      "source": [
        "## Example 2: Query the Precentral Sulcus\nthis query and all defined will not be in the program\nafter the `with` context finishes. But the results\nremain. We identify the precentral sulcus (PC) as:\n\n* belongs to the left frontal lobe\n* its principal direction is along the superior-inferior\n  axis.\n* no other sulcus satisfying the same conditions is\n  anterior to the PC.\n\n"
      ]
    },
    {
      "cell_type": "code",
      "execution_count": null,
      "metadata": {
        "collapsed": false
      },
      "outputs": [],
      "source": [
        "with nl.scope as e:\n    e.named_sulcus[\"L precentral sulcus\", e.region] = (\n        e.left_frontal_lobe_sulcus(e.region)\n        & e.principal_direction(e.region, \"SI\")\n        & ~nl.exists(\n            e.other_region,\n            e.left_frontal_lobe_sulcus(e.other_region)\n            & (e.region != e.other_region)\n            & e.anatomical_posterior_of(e.other_region, e.region),\n        )\n    )\n\n    res = nl.query((e.name, e.region), e.named_sulcus(e.name, e.region))\n\nfor name, region in res:\n    subplots = plt.subplots(nrows=2, ncols=1, figsize=(10, 5))[1]\n    plotting.plot_roi(\n        region.spatial_image(), display_mode=\"x\", title=name, axes=subplots[0]\n    )\n    plotting.plot_roi(\n        region.spatial_image(), display_mode=\"y\", axes=subplots[1]\n    )"
      ]
    },
    {
      "cell_type": "markdown",
      "metadata": {},
      "source": [
        "## Example 3: Query the Superior Frontal Sulcus\nthis query and all defined will not be in the program\nafter the `with` context finishes. But the results\nremain.\nIn this query we express that the superior frontal sulcus (SFS)\nas a sulcus which:\n\n* belongs to the left frontal lobe\n* its principal direction is along the anterior-posterior\n  axis.\n* no other sulcus satisfying the same conditions is\n  superior to the SFS.\n\n"
      ]
    },
    {
      "cell_type": "code",
      "execution_count": null,
      "metadata": {
        "collapsed": false
      },
      "outputs": [],
      "source": [
        "with nl.scope as e:\n    e.named_sulcus[\"L superior frontal sulcus\", e.region] = (\n        e.left_frontal_lobe_sulcus(e.region)\n        & e.principal_direction(e.region, \"AP\")\n        & ~nl.exists(\n            e.other_region,\n            e.left_frontal_lobe_sulcus(e.other_region)\n            & (e.region != e.other_region)\n            & e.anatomical_superior_of(e.other_region, e.region),\n        )\n    )\n\n    res = nl.query((e.name, e.region), e.named_sulcus(e.name, e.region))\n\nfor name, region in res:\n    subplots = plt.subplots(nrows=2, ncols=1, figsize=(10, 5))[1]\n    plotting.plot_roi(\n        region.spatial_image(), display_mode=\"x\", title=name, axes=subplots[0]\n    )\n    plotting.plot_roi(\n        region.spatial_image(), display_mode=\"y\", axes=subplots[1]\n    )"
      ]
    }
  ],
  "metadata": {
    "kernelspec": {
      "display_name": "Python 3",
      "language": "python",
      "name": "python3"
    },
    "language_info": {
      "codemirror_mode": {
        "name": "ipython",
        "version": 3
      },
      "file_extension": ".py",
      "mimetype": "text/x-python",
      "name": "python",
      "nbconvert_exporter": "python",
      "pygments_lexer": "ipython3",
      "version": "3.7.11"
    }
  },
  "nbformat": 4,
  "nbformat_minor": 0
}